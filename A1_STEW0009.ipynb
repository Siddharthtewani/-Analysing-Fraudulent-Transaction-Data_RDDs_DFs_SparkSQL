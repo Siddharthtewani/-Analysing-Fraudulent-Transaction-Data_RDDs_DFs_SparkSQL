{
 "cells": [
  {
   "cell_type": "markdown",
   "metadata": {},
   "source": [
    "# FIT5202 2024 S2 Assignment 1 : Analysing Fraudulent Transaction Data\n",
    "\n",
    "## Table of Contents\n",
    "* [Part 1 : Working with RDD](#part-1)  \n",
    "    - [1.1 Data Preparation and Loading](#1.1)  \n",
    "    - [1.2 Data Partitioning in RDD](#1.2)  \n",
    "    - [1.3 Query/Analysis](#1.3)  \n",
    "* [Part 2 : Working with DataFrames](#2-dataframes)  \n",
    "    - [2.1 Data Preparation and Loading](#2-dataframes)  \n",
    "    - [2.2 Query/Analysis](#2.2)  \n",
    "* [Part 3 :  RDDs vs DataFrame vs Spark SQL](#part-3)  "
   ]
  },
  {
   "cell_type": "markdown",
   "metadata": {},
   "source": [
    "# Part 1 : Working with RDDs (30%) <a class=\"anchor\" name=\"part-1\"></a>\n",
    "## 1.1 Working with RDD\n",
    "In this section, you will need to create RDDs from the given datasets, perform partitioning in these RDDs and use various RDD operations to answer the queries. \n",
    "\n",
    "1.1.1 Data Preparation and Loading <a class=\"anchor\" name=\"1.1\"></a>\n",
    "Write the code to create a SparkContext object using SparkSession. To create a SparkSession you first need to build a SparkConf object that contains information about your application, use Melbourne time as the session timezone. Give an appropriate name for your application and run Spark locally with 4 cores on your machine. "
   ]
  },
  {
   "cell_type": "code",
   "execution_count": 1,
   "metadata": {},
   "outputs": [],
   "source": [
    "# Import SparkConf class into the program\n",
    "from pyspark import SparkConf\n",
    "\n",
    "master = \"local[4]\"\n",
    "\n",
    "app_name = \"Assignment_1\"\n",
    "spark_conf = SparkConf().setMaster(master).setAppName(app_name).set(\"spark.sql.session.timeZone\", \"Australia/Melbourne\")\n",
    "\n",
    "# Import SparkContext and SparkSession classes\n",
    "from pyspark import SparkContext # Spark\n",
    "from pyspark.sql import SparkSession # Spark SQL\n",
    "\n",
    "spark = SparkSession.builder.config(conf=spark_conf).getOrCreate()\n",
    "sc = spark.sparkContext\n",
    "sc.setLogLevel('ERROR')\n",
    "\n"
   ]
  },
  {
   "cell_type": "markdown",
   "metadata": {},
   "source": [
    "1.1.2 Load csv files into multiple RDDs."
   ]
  },
  {
   "cell_type": "code",
   "execution_count": 2,
   "metadata": {},
   "outputs": [],
   "source": [
    "import os\n",
    "curr_dir = os.getcwd()"
   ]
  },
  {
   "cell_type": "code",
   "execution_count": 3,
   "metadata": {},
   "outputs": [
    {
     "name": "stdout",
     "output_type": "stream",
     "text": [
      "Category RDD:\n",
      "['\"category\",\"id_category\"', 'Entertainment,1', 'Food_Dining,2', 'Gas_Transport,3', 'Grocery(Online),4']\n",
      "\n",
      "Customers RDD:\n",
      "['\"id_customer\",\"cc_num\",\"firstname\",\"lastname\",\"gender\",\"address\",\"job\",\"dob\",\"acct_num\",\"id_geolocation\"', '\"263-99-6044\",\"4241904966319315\",Melissa,Turner,F,\"058 Stanley Cliff\",Risk manager,\"2005-05-30\",376443331852,6339', '\"292-61-7844\",\"30520471167198\",Mark,Brown,M,\"413 Angela Mall\",Trading standards officer,\"2003-04-19\",870143739098,6200', '\"491-28-3311\",\"180084219933088\",Courtney,Hall,F,\"5712 Tamara Estate\",Optometrist,\"2002-04-17\",965855026307,3547', '\"826-23-1754\",\"2623398454615676\",Krystal,Branch,F,\"1016 Bennett Mountains\",Banker,\"2001-07-15\",11324746755,6302']\n",
      "\n",
      "Geolocation RDD:\n",
      "['\"city\",\"state\",\"zip\",\"lat\",\"long\",\"id_geolocation\",\"population\"', 'Burkeville,TX,75932,31.0099,-93.6585,1,1437', 'Fresno,TX,77545,29.5293,-95.4626,2,19431', 'Osseo,MN,55311,45.1243,-93.4996,3,65312', 'Pomona,CA,91766,34.0418,-117.7569,4,154204']\n",
      "\n",
      "Merchant RDD:\n",
      "['\"merchant\",\"id_geolocation\",\"id_merchant\"', 'Bins-Tillman,6051,1', '\"Hahn, Douglas and Schowalter\",1276,2', '\"Hayes, Marquardt and Dibbert\",1383,3', '\"Mueller, Gerhold and Mueller\",1846,4']\n",
      "\n",
      "Transactions RDD:\n",
      "['\"id_transaction\",\"trans_timestamp\",\"amt\",\"is_fraud\",\"id_customer\",\"id_geolocation\",\"id_merchant\",\"id_category\"', '\"0c20530e90719213c442744161a1850b\",1622367050,87.18,0,\"794-45-4364\",46,2641132,12', '\"984fc48fc946605deefc9d0967582811\",1609183538,276.97,0,\"436-80-2340\",60,2932280,5', 'b13ff47c73689bc4c8320c0ce403b15d,1655595319,7.67,0,\"385-77-6544\",87,2708770,2', '\"7cffae35cab67d9415f9f22d91ca7acc\",1613234460,198.96,0,\"450-56-1117\",138,1170872,10']\n"
     ]
    }
   ],
   "source": [
    "# Load each CSV file into an RDD\n",
    "\n",
    "# Load category.csv\n",
    "category_data_rdd = sc.textFile(curr_dir + \"/category.csv\")\n",
    "print(\"Category RDD:\")\n",
    "print(category_data_rdd.take(5))\n",
    "\n",
    "# Load customers.csv\n",
    "customers_data_rdd = sc.textFile(curr_dir + \"/customers.csv\")\n",
    "print(\"\\nCustomers RDD:\")\n",
    "print(customers_data_rdd.take(5))\n",
    "\n",
    "# Load geolocation.csv\n",
    "geolocation_data_rdd = sc.textFile(curr_dir + \"/geolocation.csv\")\n",
    "print(\"\\nGeolocation RDD:\")\n",
    "print(geolocation_data_rdd.take(5))\n",
    "\n",
    "# Load merchant.csv\n",
    "merchant_data_rdd = sc.textFile(curr_dir + \"/merchant.csv\")\n",
    "print(\"\\nMerchant RDD:\")\n",
    "print(merchant_data_rdd.take(5))\n",
    "\n",
    "# Load transactions.csv\n",
    "transactions_data_rdd = sc.textFile(curr_dir + \"/transactions.csv\")\n",
    "print(\"\\nTransactions RDD:\")\n",
    "print(transactions_data_rdd.take(5))\n"
   ]
  },
  {
   "cell_type": "markdown",
   "metadata": {},
   "source": [
    "1.1.3 For each RDD, remove the header rows and display the total count and first 10 records. (Hint: You can use csv.reader to parse rows into RDDs.)"
   ]
  },
  {
   "cell_type": "code",
   "execution_count": 4,
   "metadata": {},
   "outputs": [
    {
     "name": "stdout",
     "output_type": "stream",
     "text": [
      "Category RDD Count: 14\n",
      "Category 10 Records: [['Entertainment', '1'], ['Food_Dining', '2'], ['Gas_Transport', '3'], ['Grocery(Online)', '4'], ['Grocery(In Store)', '5'], ['Health_Fitness', '6'], ['Home', '7'], ['Pets', '8'], ['Misc(Online)\\\\', '9'], ['Misc(In Store)', '10']]\n",
      "\n",
      "Customers RDD Count: 10000\n",
      "Customers 10 Records: [['263-99-6044', '4241904966319315', 'Melissa', 'Turner', 'F', '058 Stanley Cliff', 'Risk manager', '2005-05-30', '376443331852', '6339'], ['292-61-7844', '30520471167198', 'Mark', 'Brown', 'M', '413 Angela Mall', 'Trading standards officer', '2003-04-19', '870143739098', '6200'], ['491-28-3311', '180084219933088', 'Courtney', 'Hall', 'F', '5712 Tamara Estate', 'Optometrist', '2002-04-17', '965855026307', '3547'], ['826-23-1754', '2623398454615676', 'Krystal', 'Branch', 'F', '1016 Bennett Mountains', 'Banker', '2001-07-15', '11324746755', '6302'], ['172-11-9264', '639034043849', 'Carol', 'Ellis', 'F', '819 Joseph Plains Suite 807', 'Sports coach', '2003-11-21', '113495175185', '5227'], ['150-95-7922', '343731453038560', 'Julie', 'Gibson', 'F', '51844 Nicholas Lane', 'Medical secretary', '2006-03-06', '719783599768', '4047'], ['841-99-2980', '3525799136621031', 'Joseph', 'Blankenship', 'M', '91279 Natalie Place Apt. 172', 'Toxicologist', '2005-07-01', '908554315130', '6271'], ['705-41-6699', '342694486959460', 'Nicole', 'Gutierrez', 'F', '58874 Lane Trail Suite 213', 'Product manager', '2003-01-23', '772162574642', '6302'], ['016-22-4524', '3563009792513271', 'Anna', 'Montgomery', 'F', '52812 Hall Point', 'Loss adjuster, chartered', '2001-08-26', '982712248618', '5614'], ['639-46-2126', '3587729343010715', 'Nancy', 'Clark', 'F', '0558 Alex Flats Suite 414', 'Hydrologist', '2005-02-10', '603471636817', '6328']]\n",
      "\n",
      "Geolocation RDD Count: 6342\n",
      "Geolocation 10 Records: [['Burkeville', 'TX', '75932', '31.0099', '-93.6585', '1', '1437'], ['Fresno', 'TX', '77545', '29.5293', '-95.4626', '2', '19431'], ['Osseo', 'MN', '55311', '45.1243', '-93.4996', '3', '65312'], ['Pomona', 'CA', '91766', '34.0418', '-117.7569', '4', '154204'], ['Vacaville', 'CA', '95688', '38.3847', '-121.9887', '5', '99475'], ['South Lake Tahoe', 'CA', '96150', '38.917', '-119.9865', '6', '29800'], ['Belvidere', 'TN', '37306', '35.1415', '-86.1728', '7', '2760'], ['Columbia', 'SC', '29205', '33.9903', '-80.9997', '8', '333497'], ['Chicago', 'IL', '60660', '41.9909', '-87.6629', '9', '2680484'], ['Tunnelton', 'WV', '26444', '39.3625', '-79.7478', '10', '3639']]\n",
      "\n",
      "Merchant RDD Count: 3837031\n",
      "Merchant 10 Records: [['Bins-Tillman', '6051', '1'], ['Hahn, Douglas and Schowalter', '1276', '2'], ['Hayes, Marquardt and Dibbert', '1383', '3'], ['Mueller, Gerhold and Mueller', '1846', '4'], ['Kerluke Inc', '1784', '5'], ['Waelchi Inc', '4637', '6'], ['Trantow PLC', '2176', '7'], ['Runolfsson and Sons', '3968', '8'], ['Bechtelar-Rippin', '1048', '9'], ['Schumm, Bauch and Ondricka', '1553', '10']]\n",
      "\n",
      "Transactions RDD Count: 22949835\n",
      "Transactions 10 Records: [['0c20530e90719213c442744161a1850b', '1622367050', '87.18', '0', '794-45-4364', '46', '2641132', '12'], ['984fc48fc946605deefc9d0967582811', '1609183538', '276.97', '0', '436-80-2340', '60', '2932280', '5'], ['b13ff47c73689bc4c8320c0ce403b15d', '1655595319', '7.67', '0', '385-77-6544', '87', '2708770', '2'], ['7cffae35cab67d9415f9f22d91ca7acc', '1613234460', '198.96', '0', '450-56-1117', '138', '1170872', '10'], ['22e01cb3403a4c7ce598ebe785e1e947', '1605030979', '33.46', '0', '397-54-0253', '218', '2470519', '5'], ['1d174d018228efcd1d5800f768628904', '1608989049', '2.74', '0', '248-09-7729', '222', '3436926', '9'], ['532536d65907e08d938cb31e3631ddd4', '1650997797', '1.23', '0', '277-12-7638', '337', '3750746', '2'], ['32d76f65b7512afbdc99331ee96bc6d7', '1649986601', '7.78', '0', '615-63-3623', '718', '3773961', '2'], ['c3f29bca602c9e2e9a188567f06d632f', '1617032215', '218.8', '0', '877-16-8226', '747', '2377216', '10'], ['c56ef2e4a43d867128839b97bc1dbb66', '1609250028', '62.1', '0', '823-85-5801', '950', '652447', '5']]\n"
     ]
    }
   ],
   "source": [
    "import csv\n",
    "from io import StringIO\n",
    "\n",
    "\n",
    "##def remove_header_and_parse(rdd):\n",
    "##    header = rdd.first()  # extract the header\n",
    "##    return rdd.filter(lambda row: row != header) \\\n",
    "#              .map(lambda row: \",\".join(list(csv.reader(StringIO(row), delimiter=','))[0]))\n",
    "\n",
    "\n",
    "# Updated function to keep rows as lists of fields\n",
    "def header_omit(rdd):\n",
    "    header = rdd.first()  # extract the header\n",
    "    return rdd.filter(lambda row: row != header) \\\n",
    "              .map(lambda row: list(csv.reader(StringIO(row), delimiter=','))[0])\n",
    "# Process category data RDD\n",
    "category_data_rdd = header_omit(category_data_rdd)\n",
    "print(\"Category RDD Count:\", category_data_rdd.count())\n",
    "print(\"Category 10 Records:\", category_data_rdd.take(10))\n",
    "\n",
    "# Process customers data RDD\n",
    "customers_data_rdd = header_omit(customers_data_rdd)\n",
    "print(\"\\nCustomers RDD Count:\", customers_data_rdd.count())\n",
    "print(\"Customers 10 Records:\", customers_data_rdd.take(10))\n",
    "\n",
    "# Process geolocation data RDD\n",
    "geolocation_data_rdd = header_omit(geolocation_data_rdd)\n",
    "print(\"\\nGeolocation RDD Count:\", geolocation_data_rdd.count())\n",
    "print(\"Geolocation 10 Records:\", geolocation_data_rdd.take(10))\n",
    "\n",
    "# Process merchant data RDD\n",
    "merchant_data_rdd = header_omit(merchant_data_rdd)\n",
    "print(\"\\nMerchant RDD Count:\", merchant_data_rdd.count())\n",
    "print(\"Merchant 10 Records:\", merchant_data_rdd.take(10))\n",
    "\n",
    "# Process transactions data RDD\n",
    "transactions_data_rdd = header_omit(transactions_data_rdd)\n",
    "print(\"\\nTransactions RDD Count:\", transactions_data_rdd.count())\n",
    "print(\"Transactions 10 Records:\", transactions_data_rdd.take(10))\n"
   ]
  },
  {
   "cell_type": "markdown",
   "metadata": {},
   "source": [
    "1.1.4 Drop personal information columns from RDDs: cc_num, firstname, lastname, address. "
   ]
  },
  {
   "cell_type": "code",
   "execution_count": 5,
   "metadata": {},
   "outputs": [
    {
     "name": "stdout",
     "output_type": "stream",
     "text": [
      "Total Records 10000\n",
      "First 10 Entries  [['263-99-6044', 'F', 'Risk manager', '2005-05-30', '376443331852', '6339'], ['292-61-7844', 'M', 'Trading standards officer', '2003-04-19', '870143739098', '6200'], ['491-28-3311', 'F', 'Optometrist', '2002-04-17', '965855026307', '3547'], ['826-23-1754', 'F', 'Banker', '2001-07-15', '11324746755', '6302'], ['172-11-9264', 'F', 'Sports coach', '2003-11-21', '113495175185', '5227'], ['150-95-7922', 'F', 'Medical secretary', '2006-03-06', '719783599768', '4047'], ['841-99-2980', 'M', 'Toxicologist', '2005-07-01', '908554315130', '6271'], ['705-41-6699', 'F', 'Product manager', '2003-01-23', '772162574642', '6302'], ['016-22-4524', 'F', 'Loss adjuster, chartered', '2001-08-26', '982712248618', '5614'], ['639-46-2126', 'F', 'Hydrologist', '2005-02-10', '603471636817', '6328']]\n"
     ]
    }
   ],
   "source": [
    "# Assuming customers_data_rdd is already an RDD of lists (not strings)\n",
    "# No need to split rows as it's already done\n",
    "\n",
    "# Function to remove personal details from each row in the customers RDD\n",
    "def private_info_removal(row):    \n",
    "    return [row[0]] + [row[4]] + row[6:]\n",
    "\n",
    "# Apply the function to the customers RDD to clean it up\n",
    "cleaned_customers_rdd = customers_data_rdd.map(private_info_removal)\n",
    "\n",
    "# Show how many records are in the cleaned RDD and the first 10 entries\n",
    "print(\"Total Records\", cleaned_customers_rdd.count())\n",
    "print(\"First 10 Entries \", cleaned_customers_rdd.take(10))\n"
   ]
  },
  {
   "cell_type": "markdown",
   "metadata": {},
   "source": [
    "### 1.2 Data Partitioning in RDD <a class=\"anchor\" name=\"1.2\"></a>\n",
    "1.2.1 For each RDD, print out the total number of partitions and the number of records in each partition."
   ]
  },
  {
   "cell_type": "code",
   "execution_count": 6,
   "metadata": {},
   "outputs": [
    {
     "name": "stdout",
     "output_type": "stream",
     "text": [
      "\n",
      "Customers RDD - No of Partitions: 2\n",
      "Partition 0ac: 5002 records\n",
      "Partition 1ac: 4998 records\n",
      "\n",
      "Category RDD - No of Partitions: 2\n",
      "Partition 0ac: 6 records\n",
      "Partition 1ac: 8 records\n",
      "\n",
      "Geolocation RDD - No of Partitions: 2\n",
      "Partition 0ac: 3178 records\n",
      "Partition 1ac: 3164 records\n",
      "\n",
      "Merchant RDD - No of Partitions: 4\n",
      "Partition 0ac: 1094930 records\n",
      "Partition 1ac: 1059961 records\n",
      "Partition 2ac: 1059729 records\n",
      "Partition 3ac: 622411 records\n",
      "\n",
      "Transactions RDD - No of Partitions: 56\n",
      "Partition 0ac: 409654 records\n",
      "Partition 1ac: 409552 records\n",
      "Partition 2ac: 409551 records\n",
      "Partition 3ac: 409568 records\n",
      "Partition 4ac: 409556 records\n",
      "Partition 5ac: 409615 records\n",
      "Partition 6ac: 409623 records\n",
      "Partition 7ac: 409562 records\n",
      "Partition 8ac: 409556 records\n",
      "Partition 9ac: 409568 records\n",
      "Partition 10ac: 409558 records\n",
      "Partition 11ac: 409590 records\n",
      "Partition 12ac: 409620 records\n",
      "Partition 13ac: 409626 records\n",
      "Partition 14ac: 409575 records\n",
      "Partition 15ac: 409576 records\n",
      "Partition 16ac: 409570 records\n",
      "Partition 17ac: 409576 records\n",
      "Partition 18ac: 409544 records\n",
      "Partition 19ac: 409653 records\n",
      "Partition 20ac: 409581 records\n",
      "Partition 21ac: 409577 records\n",
      "Partition 22ac: 409557 records\n",
      "Partition 23ac: 409565 records\n",
      "Partition 24ac: 409576 records\n",
      "Partition 25ac: 409604 records\n",
      "Partition 26ac: 409617 records\n",
      "Partition 27ac: 409570 records\n",
      "Partition 28ac: 409541 records\n",
      "Partition 29ac: 409582 records\n",
      "Partition 30ac: 409562 records\n",
      "Partition 31ac: 409584 records\n",
      "Partition 32ac: 409654 records\n",
      "Partition 33ac: 409598 records\n",
      "Partition 34ac: 409547 records\n",
      "Partition 35ac: 409578 records\n",
      "Partition 36ac: 409581 records\n",
      "Partition 37ac: 409574 records\n",
      "Partition 38ac: 409564 records\n",
      "Partition 39ac: 409657 records\n",
      "Partition 40ac: 409580 records\n",
      "Partition 41ac: 409565 records\n",
      "Partition 42ac: 409561 records\n",
      "Partition 43ac: 409583 records\n",
      "Partition 44ac: 409557 records\n",
      "Partition 45ac: 409596 records\n",
      "Partition 46ac: 409630 records\n",
      "Partition 47ac: 409566 records\n",
      "Partition 48ac: 409568 records\n",
      "Partition 49ac: 409558 records\n",
      "Partition 50ac: 409582 records\n",
      "Partition 51ac: 409555 records\n",
      "Partition 52ac: 409599 records\n",
      "Partition 53ac: 409657 records\n",
      "Partition 54ac: 409563 records\n",
      "Partition 55ac: 422753 records\n"
     ]
    }
   ],
   "source": [
    "# Function to display how many partitions an RDD has and the number of records in each one\n",
    "def partition_details(actual_rdd, name_rdd):\n",
    "    num = actual_rdd.getNumPartitions()\n",
    "    print(f\"\\n{name_rdd} - No of Partitions: {num}\")\n",
    "       \n",
    "    partition_sizes = actual_rdd.glom().map(len).collect()\n",
    "    for i, size in enumerate(partition_sizes):\n",
    "        print(f\"Partition {i}ac: {size} records\")\n",
    "\n",
    "        \n",
    "partition_details(cleaned_customers_rdd, \"Customers RDD\")\n",
    "partition_details(category_data_rdd, \"Category RDD\")\n",
    "partition_details(geolocation_data_rdd, \"Geolocation RDD\")\n",
    "partition_details(merchant_data_rdd, \"Merchant RDD\")\n",
    "partition_details(transactions_data_rdd, \"Transactions RDD\")\n"
   ]
  },
  {
   "cell_type": "markdown",
   "metadata": {},
   "source": [
    "1.2.2 Answer the following questions:   \n",
    "a) How many partitions do the above RDDs have?   \n",
    "b) How is the data in these RDDs partitioned by default, when we do not explicitly specify any partitioning strategy? Can you explain why it is partitioned in this number?   \n",
    "c) Assuming we are querying the dataset based on transaction date, can you think of a better strategy to partition the data based on your available hardware resources?"
   ]
  },
  {
   "cell_type": "markdown",
   "metadata": {},
   "source": [
    "Your answer for a\n",
    "\n",
    "<ol>\n",
    "<li> Customers data rdd : 2 partitions</li>\n",
    "<li>Category data rdd: 2 partitions</li>\n",
    "<li>Geolocation data rdd: 2 partitions</li>\n",
    "<li>Merchant data rdd: 4 partitions</li>\n",
    "<li>Transactions data rdd: 56 partitions</li>\n",
    "</ol>"
   ]
  },
  {
   "cell_type": "markdown",
   "metadata": {},
   "source": [
    "Your answer for b\n",
    "\n",
    "So the initial spark partitions data is based upon the systenm's file system's block size. \n",
    "More factors are: \n",
    "\n",
    "<ol>\n",
    "    <li> As the larger the dataset, it will be divided into more partitions.</li>\n",
    "    <li> It also depends upon the cluster's CPU cores.</li>\n",
    "</ol>\n",
    "\n",
    "Like how we have the transaction data, and as it is a big dataset it is divided into 56 partitions."
   ]
  },
  {
   "cell_type": "markdown",
   "metadata": {},
   "source": [
    "Your answer for c \n",
    "\n",
    "If the queries are based on the transaction data it might be more intelligent to partition the data by the transaction date.\n",
    "Like if the data is across multiple years, we can partition based on the month, week or years."
   ]
  },
  {
   "cell_type": "markdown",
   "metadata": {},
   "source": [
    "1.2.3 Create a user defined function (UDF) to transform trans_timestamp to ISO format(YYYY-MM-DD hh:mm:ss), then call the UDF and add a new column trans_datetime."
   ]
  },
  {
   "cell_type": "code",
   "execution_count": 7,
   "metadata": {},
   "outputs": [
    {
     "name": "stdout",
     "output_type": "stream",
     "text": [
      "Before Transformation:\n",
      "[['0c20530e90719213c442744161a1850b', '1622367050', '87.18', '0', '794-45-4364', '46', '2641132', '12'], ['984fc48fc946605deefc9d0967582811', '1609183538', '276.97', '0', '436-80-2340', '60', '2932280', '5'], ['b13ff47c73689bc4c8320c0ce403b15d', '1655595319', '7.67', '0', '385-77-6544', '87', '2708770', '2'], ['7cffae35cab67d9415f9f22d91ca7acc', '1613234460', '198.96', '0', '450-56-1117', '138', '1170872', '10'], ['22e01cb3403a4c7ce598ebe785e1e947', '1605030979', '33.46', '0', '397-54-0253', '218', '2470519', '5']]\n"
     ]
    }
   ],
   "source": [
    "# Let's check out the first 5 records before we do any transformation\n",
    "print(\"Before Transformation:\")\n",
    "print(transactions_data_rdd.take(5))\n"
   ]
  },
  {
   "cell_type": "code",
   "execution_count": 8,
   "metadata": {},
   "outputs": [
    {
     "name": "stdout",
     "output_type": "stream",
     "text": [
      "\n",
      "After Transformation:\n",
      "[['0c20530e90719213c442744161a1850b', '1622367050', '87.18', '0', '794-45-4364', '46', '2641132', '12', '2021-05-30 09:30:50'], ['984fc48fc946605deefc9d0967582811', '1609183538', '276.97', '0', '436-80-2340', '60', '2932280', '5', '2020-12-28 19:25:38'], ['b13ff47c73689bc4c8320c0ce403b15d', '1655595319', '7.67', '0', '385-77-6544', '87', '2708770', '2', '2022-06-18 23:35:19'], ['7cffae35cab67d9415f9f22d91ca7acc', '1613234460', '198.96', '0', '450-56-1117', '138', '1170872', '10', '2021-02-13 16:41:00'], ['22e01cb3403a4c7ce598ebe785e1e947', '1605030979', '33.46', '0', '397-54-0253', '218', '2470519', '5', '2020-11-10 17:56:19']]\n"
     ]
    }
   ],
   "source": [
    "from datetime import datetime\n",
    "\n",
    "def time_iso_change(row):\n",
    "    trans_timestamp = int(row[1])  \n",
    "    trans_datetime = datetime.utcfromtimestamp(trans_timestamp).strftime('%Y-%m-%d %H:%M:%S')\n",
    "    return row + [trans_datetime]\n",
    "\n",
    "transactions_with_datetime_rdd = transactions_data_rdd.map(time_iso_change)\n",
    "print(\"\\nAfter Transformation:\")\n",
    "print(transactions_with_datetime_rdd.take(5))\n"
   ]
  },
  {
   "cell_type": "markdown",
   "metadata": {},
   "source": [
    "### 1.3 Query/Analysis <a class=\"anchor\" name=\"1.3\"></a>\n",
    "For this part, write relevant RDD operations to answer the following queries.\n",
    "\n",
    "1.3.1 Calculate the summary of fraudulent transactions amount for each year, each month. Print the results in tabular format."
   ]
  },
  {
   "cell_type": "code",
   "execution_count": 9,
   "metadata": {},
   "outputs": [
    {
     "name": "stdout",
     "output_type": "stream",
     "text": [
      "Year-Month\tTotal Fraudulent Amount\n",
      "----------------------------------\n",
      "2020-01\t898993.87\n",
      "2020-02\t1055068.69\n",
      "2020-03\t864818.53\n",
      "2020-04\t797646.98\n",
      "2020-05\t925864.70\n",
      "2020-06\t983224.85\n",
      "2020-07\t904102.03\n",
      "2020-08\t1031171.33\n",
      "2020-09\t895572.70\n",
      "2020-10\t917590.31\n",
      "2020-11\t876092.53\n",
      "2020-12\t1047136.05\n",
      "2021-01\t925229.73\n",
      "2021-02\t789827.07\n",
      "2021-03\t892832.58\n",
      "2021-04\t907938.06\n",
      "2021-05\t967478.79\n",
      "2021-06\t883641.08\n",
      "2021-07\t997994.13\n",
      "2021-08\t935016.09\n",
      "2021-09\t868437.49\n",
      "2021-10\t1008533.07\n",
      "2021-11\t789345.70\n",
      "2021-12\t799928.90\n",
      "2022-01\t897735.25\n",
      "2022-02\t871017.78\n",
      "2022-03\t1001807.60\n",
      "2022-04\t882859.25\n",
      "2022-05\t929544.45\n",
      "2022-06\t995504.95\n",
      "2022-07\t962204.05\n",
      "2022-08\t965271.53\n",
      "2022-09\t931044.91\n",
      "2022-10\t946128.94\n",
      "2022-11\t996390.87\n",
      "2022-12\t976878.63\n"
     ]
    }
   ],
   "source": [
    "from collections import defaultdict\n",
    "\n",
    "fraud_trans = transactions_with_datetime_rdd.filter(lambda row: row[3] == '1')\n",
    "year_month_amount_rdd = fraud_trans.map(lambda row: (row[-1][:7],float(row[2])))\n",
    "summary_rdd = year_month_amount_rdd.reduceByKey(lambda a, b: a + b)\n",
    "sorted_summary = summary_rdd.sortByKey().collect()\n",
    "\n",
    "print(\"Year-Month\\tTotal Fraudulent Amount\")\n",
    "print(\"----------------------------------\")\n",
    "for year_month, total_amount in sorted_summary:\n",
    "    print(f\"{year_month}\\t{total_amount:.2f}\")\n"
   ]
  },
  {
   "cell_type": "markdown",
   "metadata": {},
   "source": [
    "1.3.2 List 20 mechants that suffered the most from fraudulent activities(i.e. 20 highest amount of monetary loss)."
   ]
  },
  {
   "cell_type": "code",
   "execution_count": 10,
   "metadata": {},
   "outputs": [
    {
     "name": "stdout",
     "output_type": "stream",
     "text": [
      "Merchant ID\tTotal Fraudulent Loss\n",
      "----------------------------------\n",
      "583697\t4140.42\n",
      "1260698\t3350.73\n",
      "723944\t3152.61\n",
      "907976\t3116.01\n",
      "1237992\t3058.52\n",
      "1120003\t3022.88\n",
      "3612453\t2990.54\n",
      "3027129\t2980.86\n",
      "3566147\t2903.51\n",
      "1731014\t2779.67\n",
      "2128631\t2729.68\n",
      "3205157\t2706.85\n",
      "727880\t2685.65\n",
      "2736950\t2512.22\n",
      "2493145\t2456.32\n",
      "3481436\t2329.59\n",
      "1978671\t2308.45\n",
      "3789531\t2278.31\n",
      "1500256\t2277.79\n",
      "3543403\t2274.36\n"
     ]
    }
   ],
   "source": [
    "fraud_transactions_rdd = transactions_with_datetime_rdd.filter(lambda row: row[3] == '1')\n",
    "rdd_merchant_amount = fraud_transactions_rdd.map(lambda row: (row[6],float(row[2]) ))\n",
    "\n",
    "rdd_merchant_loss = rdd_merchant_amount.reduceByKey(lambda a, b: a + b)\n",
    "merchant_20 = rdd_merchant_loss.takeOrdered(20, key=lambda x: -x[1])\n",
    "print(\"Merchant ID\\tTotal Fraudulent Loss\")\n",
    "print(\"----------------------------------\")\n",
    "for id, loss_total in merchant_20:\n",
    "    print(f\"{id}\\t{loss_total:.2f}\")\n"
   ]
  },
  {
   "cell_type": "markdown",
   "metadata": {},
   "source": [
    "## Part 2. Working with DataFrames (45%) <a class=\"anchor\" name=\"2-dataframes\"></a>\n",
    "In this section, you need to load the given datasets into PySpark DataFrames and use DataFrame functions to answer the queries.\n",
    "### 2.1 Data Preparation and Loading\n",
    "\n",
    "2.1.1. Load the CSV files into separate dataframes. When you create your dataframes, please refer to the metadata file and think about the appropriate data type for each column."
   ]
  },
  {
   "cell_type": "code",
   "execution_count": 11,
   "metadata": {},
   "outputs": [],
   "source": [
    "from pyspark.sql.types import *\n",
    "\n",
    "category_schema = StructType([\n",
    "    StructField(\"category\", StringType(), True),\n",
    "    StructField(\"id_category\", IntegerType(), True)\n",
    "])\n",
    "\n",
    "customers_schema = StructType([\n",
    "    StructField(\"id_customer\", StringType(), True),\n",
    "    StructField(\"cc_num\", StringType(), True),\n",
    "    StructField(\"firstname\", StringType(), True),\n",
    "    StructField(\"lastname\", StringType(), True),\n",
    "    StructField(\"gender\", StringType(), True),\n",
    "    StructField(\"address\", StringType(), True),\n",
    "    StructField(\"job\", StringType(), True),\n",
    "    StructField(\"dob\", DateType(), True),  # Date of birth\n",
    "    StructField(\"acct_num\", StringType(), True),\n",
    "    StructField(\"id_geolocation\", IntegerType(), True)\n",
    "])\n",
    "\n",
    "geolocation_schema = StructType([\n",
    "    StructField(\"city\", StringType(), True),\n",
    "    StructField(\"state\", StringType(), True),\n",
    "    StructField(\"zip\", StringType(), True),\n",
    "    StructField(\"lat\", FloatType(), True),  # Latitude\n",
    "    StructField(\"long\", FloatType(), True),  # Longitude\n",
    "    StructField(\"id_geolocation\", IntegerType(), True),\n",
    "    StructField(\"population\", IntegerType(), True)\n",
    "])\n",
    "\n",
    "merchant_schema = StructType([\n",
    "    StructField(\"merchant\", StringType(), True),\n",
    "    StructField(\"id_geolocation\", IntegerType(), True),\n",
    "    StructField(\"id_merchant\", IntegerType(), True)\n",
    "])\n",
    "\n",
    "transactions_schema = StructType([\n",
    "    StructField(\"id_transaction\", StringType(), True),\n",
    "    StructField(\"trans_timestamp\", LongType(), True),  # Transaction timestamp\n",
    "    StructField(\"amt\", FloatType(), True),  # Transaction amount\n",
    "    StructField(\"is_fraud\", IntegerType(), True),  # Fraud flag\n",
    "    StructField(\"id_customer\", StringType(), True),\n",
    "    StructField(\"id_geolocation\", IntegerType(), True),\n",
    "    StructField(\"id_merchant\", IntegerType(), True),\n",
    "    StructField(\"id_category\", IntegerType(), True)\n",
    "])\n",
    "\n",
    "category_df = spark.read.csv(\"category.csv\", header=True, schema=category_schema)\n",
    "customers_df = spark.read.csv(\"customers.csv\", header=True, schema=customers_schema)\n",
    "geolocation_df = spark.read.csv(\"geolocation.csv\", header=True, schema=geolocation_schema)\n",
    "merchant_df = spark.read.csv(\"merchant.csv\", header=True, schema=merchant_schema)\n",
    "transactions_df = spark.read.csv(\"transactions.csv\", header=True, schema=transactions_schema)\n"
   ]
  },
  {
   "cell_type": "markdown",
   "metadata": {},
   "source": [
    "2.1.2 Display the schema of the dataframes."
   ]
  },
  {
   "cell_type": "code",
   "execution_count": 12,
   "metadata": {},
   "outputs": [
    {
     "name": "stdout",
     "output_type": "stream",
     "text": [
      "Category df Schema and data\n",
      "root\n",
      " |-- category: string (nullable = true)\n",
      " |-- id_category: integer (nullable = true)\n",
      "\n",
      "+-----------------+-----------+\n",
      "|         category|id_category|\n",
      "+-----------------+-----------+\n",
      "|    Entertainment|          1|\n",
      "|      Food_Dining|          2|\n",
      "|    Gas_Transport|          3|\n",
      "|  Grocery(Online)|          4|\n",
      "|Grocery(In Store)|          5|\n",
      "+-----------------+-----------+\n",
      "only showing top 5 rows\n",
      "\n",
      "Customers df Schema and data\n",
      "root\n",
      " |-- id_customer: string (nullable = true)\n",
      " |-- cc_num: string (nullable = true)\n",
      " |-- firstname: string (nullable = true)\n",
      " |-- lastname: string (nullable = true)\n",
      " |-- gender: string (nullable = true)\n",
      " |-- address: string (nullable = true)\n",
      " |-- job: string (nullable = true)\n",
      " |-- dob: date (nullable = true)\n",
      " |-- acct_num: string (nullable = true)\n",
      " |-- id_geolocation: integer (nullable = true)\n",
      "\n",
      "+-----------+----------------+---------+--------+------+--------------------+--------------------+----------+------------+--------------+\n",
      "|id_customer|          cc_num|firstname|lastname|gender|             address|                 job|       dob|    acct_num|id_geolocation|\n",
      "+-----------+----------------+---------+--------+------+--------------------+--------------------+----------+------------+--------------+\n",
      "|263-99-6044|4241904966319315|  Melissa|  Turner|     F|   058 Stanley Cliff|        Risk manager|2005-05-30|376443331852|          6339|\n",
      "|292-61-7844|  30520471167198|     Mark|   Brown|     M|     413 Angela Mall|Trading standards...|2003-04-19|870143739098|          6200|\n",
      "|491-28-3311| 180084219933088| Courtney|    Hall|     F|  5712 Tamara Estate|         Optometrist|2002-04-17|965855026307|          3547|\n",
      "|826-23-1754|2623398454615676|  Krystal|  Branch|     F|1016 Bennett Moun...|              Banker|2001-07-15| 11324746755|          6302|\n",
      "|172-11-9264|    639034043849|    Carol|   Ellis|     F|819 Joseph Plains...|        Sports coach|2003-11-21|113495175185|          5227|\n",
      "+-----------+----------------+---------+--------+------+--------------------+--------------------+----------+------------+--------------+\n",
      "only showing top 5 rows\n",
      "\n",
      "Geolocation df Schema and data\n",
      "root\n",
      " |-- city: string (nullable = true)\n",
      " |-- state: string (nullable = true)\n",
      " |-- zip: string (nullable = true)\n",
      " |-- lat: float (nullable = true)\n",
      " |-- long: float (nullable = true)\n",
      " |-- id_geolocation: integer (nullable = true)\n",
      " |-- population: integer (nullable = true)\n",
      "\n",
      "+----------+-----+-----+-------+---------+--------------+----------+\n",
      "|      city|state|  zip|    lat|     long|id_geolocation|population|\n",
      "+----------+-----+-----+-------+---------+--------------+----------+\n",
      "|Burkeville|   TX|75932|31.0099| -93.6585|             1|      1437|\n",
      "|    Fresno|   TX|77545|29.5293| -95.4626|             2|     19431|\n",
      "|     Osseo|   MN|55311|45.1243| -93.4996|             3|     65312|\n",
      "|    Pomona|   CA|91766|34.0418|-117.7569|             4|    154204|\n",
      "| Vacaville|   CA|95688|38.3847|-121.9887|             5|     99475|\n",
      "+----------+-----+-----+-------+---------+--------------+----------+\n",
      "only showing top 5 rows\n",
      "\n",
      "Merchant df Schema and data\n",
      "root\n",
      " |-- merchant: string (nullable = true)\n",
      " |-- id_geolocation: integer (nullable = true)\n",
      " |-- id_merchant: integer (nullable = true)\n",
      "\n",
      "+--------------------+--------------+-----------+\n",
      "|            merchant|id_geolocation|id_merchant|\n",
      "+--------------------+--------------+-----------+\n",
      "|        Bins-Tillman|          6051|          1|\n",
      "|Hahn, Douglas and...|          1276|          2|\n",
      "|Hayes, Marquardt ...|          1383|          3|\n",
      "|Mueller, Gerhold ...|          1846|          4|\n",
      "|         Kerluke Inc|          1784|          5|\n",
      "+--------------------+--------------+-----------+\n",
      "only showing top 5 rows\n",
      "\n",
      "Transactions df Schema and data\n",
      "root\n",
      " |-- id_transaction: string (nullable = true)\n",
      " |-- trans_timestamp: long (nullable = true)\n",
      " |-- amt: float (nullable = true)\n",
      " |-- is_fraud: integer (nullable = true)\n",
      " |-- id_customer: string (nullable = true)\n",
      " |-- id_geolocation: integer (nullable = true)\n",
      " |-- id_merchant: integer (nullable = true)\n",
      " |-- id_category: integer (nullable = true)\n",
      "\n",
      "+--------------------+---------------+------+--------+-----------+--------------+-----------+-----------+\n",
      "|      id_transaction|trans_timestamp|   amt|is_fraud|id_customer|id_geolocation|id_merchant|id_category|\n",
      "+--------------------+---------------+------+--------+-----------+--------------+-----------+-----------+\n",
      "|0c20530e90719213c...|     1622367050| 87.18|       0|794-45-4364|            46|    2641132|         12|\n",
      "|984fc48fc946605de...|     1609183538|276.97|       0|436-80-2340|            60|    2932280|          5|\n",
      "|b13ff47c73689bc4c...|     1655595319|  7.67|       0|385-77-6544|            87|    2708770|          2|\n",
      "|7cffae35cab67d941...|     1613234460|198.96|       0|450-56-1117|           138|    1170872|         10|\n",
      "|22e01cb3403a4c7ce...|     1605030979| 33.46|       0|397-54-0253|           218|    2470519|          5|\n",
      "+--------------------+---------------+------+--------+-----------+--------------+-----------+-----------+\n",
      "only showing top 5 rows\n",
      "\n"
     ]
    }
   ],
   "source": [
    "\n",
    "print(\"Category df Schema and data\")\n",
    "category_df.printSchema()\n",
    "category_df.show(5)\n",
    "\n",
    "print(\"Customers df Schema and data\")\n",
    "customers_df.printSchema()\n",
    "customers_df.show(5)\n",
    "\n",
    "print(\"Geolocation df Schema and data\")\n",
    "geolocation_df.printSchema()\n",
    "geolocation_df.show(5)\n",
    "\n",
    "print(\"Merchant df Schema and data\")\n",
    "merchant_df.printSchema()\n",
    "merchant_df.show(5)\n",
    "\n",
    "print(\"Transactions df Schema and data\")\n",
    "transactions_df.printSchema()\n",
    "transactions_df.show(5)\n"
   ]
  },
  {
   "cell_type": "markdown",
   "metadata": {},
   "source": [
    "Think about: When the dataset is large, do you need all columns? How to optimize memory usage? Do you need a customized data partitioning strategy? (note: You don’t need to answer these questions.)"
   ]
  },
  {
   "cell_type": "markdown",
   "metadata": {},
   "source": [
    "### 2.2 QueryAnalysis  <a class=\"anchor\" name=\"2.2\"></a>\n",
    "Implement the following queries using dataframes. You need to be able to perform operations like filtering, sorting, joining and group by using the functions provided by the DataFrame API.   \n",
    "\n",
    "2.2.1. Transform the “trans_timestamp” to multiple columns: trans_year, trans_month, trans_day, trans_hour(24-hour format). (note: you can reuse your UDF from part 1 or create a new one.)"
   ]
  },
  {
   "cell_type": "code",
   "execution_count": 13,
   "metadata": {},
   "outputs": [
    {
     "name": "stdout",
     "output_type": "stream",
     "text": [
      "+---------------+----------+-----------+---------+----------+\n",
      "|trans_timestamp|trans_year|trans_month|trans_day|trans_hour|\n",
      "+---------------+----------+-----------+---------+----------+\n",
      "|     1622367050|      2021|          5|       30|         9|\n",
      "|     1609183538|      2020|         12|       28|        19|\n",
      "|     1655595319|      2022|          6|       18|        23|\n",
      "|     1613234460|      2021|          2|       13|        16|\n",
      "|     1605030979|      2020|         11|       10|        17|\n",
      "|     1608989049|      2020|         12|       26|        13|\n",
      "|     1650997797|      2022|          4|       26|        18|\n",
      "|     1649986601|      2022|          4|       15|         1|\n",
      "|     1617032215|      2021|          3|       29|        15|\n",
      "|     1609250028|      2020|         12|       29|        13|\n",
      "+---------------+----------+-----------+---------+----------+\n",
      "only showing top 10 rows\n",
      "\n"
     ]
    }
   ],
   "source": [
    "from pyspark.sql.functions import udf, col\n",
    "from pyspark.sql.types import IntegerType\n",
    "from datetime import datetime\n",
    "\n",
    "def retrive_year(timestamp):\n",
    "    return datetime.utcfromtimestamp(timestamp).year\n",
    "\n",
    "def retrive_month(timestamp):\n",
    "    return datetime.utcfromtimestamp(timestamp).month\n",
    "\n",
    "def retrive_day(timestamp):\n",
    "    return datetime.utcfromtimestamp(timestamp).day\n",
    "\n",
    "def retrive_hour(timestamp):\n",
    "    return datetime.utcfromtimestamp(timestamp).hour\n",
    "\n",
    "retrive_year_udf = udf(retrive_year, IntegerType())\n",
    "retrive_month_udf = udf(retrive_month, IntegerType())\n",
    "retrive_day_udf = udf(retrive_day, IntegerType())\n",
    "retrive_hour_udf = udf(retrive_hour, IntegerType())\n",
    "\n",
    "transactions_df = transactions_df.withColumn(\"trans_year\", retrive_year_udf(col(\"trans_timestamp\")))\n",
    "transactions_df = transactions_df.withColumn(\"trans_month\", retrive_month_udf(col(\"trans_timestamp\")))\n",
    "transactions_df = transactions_df.withColumn(\"trans_day\", retrive_day_udf(col(\"trans_timestamp\")))\n",
    "transactions_df = transactions_df.withColumn(\"trans_hour\", retrive_hour_udf(col(\"trans_timestamp\")))\n",
    "transactions_df.select(\"trans_timestamp\", \"trans_year\", \"trans_month\", \"trans_day\", \"trans_hour\").show(10)\n"
   ]
  },
  {
   "cell_type": "markdown",
   "metadata": {},
   "source": [
    "2.2.2. Calculate the total amount of fraudulent transactions for each hour. Show the result in a table and plot a bar chart."
   ]
  },
  {
   "cell_type": "code",
   "execution_count": 14,
   "metadata": {},
   "outputs": [
    {
     "name": "stdout",
     "output_type": "stream",
     "text": [
      "+----------+--------------------+\n",
      "|trans_hour|  total_fraud_amount|\n",
      "+----------+--------------------+\n",
      "|        12|1.0214150010820627E7|\n",
      "|        22|  137877.71991205215|\n",
      "|         1|  285385.16038417816|\n",
      "|        13|   5993048.910576105|\n",
      "|        16|  1886629.1705651283|\n",
      "|         6|   413311.3295273781|\n",
      "|         3|    397672.719974041|\n",
      "|        20|  142994.57007932663|\n",
      "|         5|  450482.31038475037|\n",
      "|        19|  151641.65018701553|\n",
      "|        15|  1911326.1711268425|\n",
      "|        17|   1078952.700726986|\n",
      "|         9|   419839.5187177658|\n",
      "|         4|  382781.02039432526|\n",
      "|         8|   446479.6103153229|\n",
      "|        23|   148233.8103609085|\n",
      "|         7|  429365.83932828903|\n",
      "|        10|   409774.7102570534|\n",
      "|        21|  148930.08997154236|\n",
      "|        11|   5311654.560580254|\n",
      "+----------+--------------------+\n",
      "only showing top 20 rows\n",
      "\n"
     ]
    },
    {
     "data": {
      "image/png": "[encoded data removed]",
      "text/plain": [
       "<Figure size 1000x600 with 1 Axes>"
      ]
     },
     "metadata": {},
     "output_type": "display_data"
    }
   ],
   "source": [
    "from pyspark.sql.functions import sum as _sum, col\n",
    "import matplotlib.pyplot as plt\n",
    "\n",
    "dataframe_fraud = transactions_df.filter(col(\"is_fraud\") == 1)\n",
    "fraud_amount_df = dataframe_fraud.groupBy(\"trans_hour\").agg(\n",
    "    _sum(\"amt\").alias(\"total_fraud_amount\")\n",
    ")\n",
    "fraud_amount_df.show()\n",
    "fraud_amount_df = fraud_amount_df.orderBy(\"trans_hour\").toPandas()\n",
    "\n",
    "plt.figure(figsize=(10, 6))\n",
    "plt.bar(fraud_amount_df[\"trans_hour\"], fraud_amount_df[\"total_fraud_amount\"], color='blue')\n",
    "plt.xlabel(\"Hour\")\n",
    "plt.ylabel(\"Fraud Amount\")\n",
    "plt.title(\"Fraudulent Transactions Amount\")\n",
    "plt.xticks(range(0, 24)) \n",
    "plt.grid(True)\n",
    "plt.show()\n"
   ]
  },
  {
   "cell_type": "markdown",
   "metadata": {},
   "source": [
    "2.2.3 Print number of small transactions(<=$100) from female who was born after 1990. "
   ]
  },
  {
   "cell_type": "code",
   "execution_count": 15,
   "metadata": {},
   "outputs": [
    {
     "name": "stdout",
     "output_type": "stream",
     "text": [
      "Number of small transactions 1889691\n"
     ]
    }
   ],
   "source": [
    "filtered_customers_df = customers_df.filter(\n",
    "    (col(\"gender\") == \"F\") & (col(\"dob\") > \"1990-12-31\")\n",
    ")\n",
    "filtered_trans_df = transactions_df.join(\n",
    "    filtered_customers_df,\n",
    "    on=\"id_customer\"\n",
    ")\n",
    "small_trans_df = filtered_trans_df.filter(col(\"amt\") <= 100)\n",
    "small_trans_count = small_trans_df.count()\n",
    "print(f\"Number of small transactions {small_trans_count}\")\n"
   ]
  },
  {
   "cell_type": "markdown",
   "metadata": {},
   "source": [
    "2.2.4 We consider a fraud-to-sales(F2S) ratio of 3% as a benchmark. If a merchant has F2S >= 3%, it is considered operating at very high rick. How many companies are operating at very high risk? (note: The answer should be a single number.)"
   ]
  },
  {
   "cell_type": "code",
   "execution_count": 19,
   "metadata": {},
   "outputs": [
    {
     "name": "stdout",
     "output_type": "stream",
     "text": [
      "Number of merchants operating at very high risk (F2S >= 3%): 54811\n"
     ]
    }
   ],
   "source": [
    "from pyspark.sql.functions import col, sum as _sum, expr\n",
    "total_sales = transactions_df.groupBy(\"id_merchant\").agg(\n",
    "    _sum(\"amt\").alias(\"total_sales\")\n",
    ")\n",
    "fraud_df = transactions_df.filter(col(\"is_fraud\") == 1).groupBy(\"id_merchant\").agg(\n",
    "    _sum(\"amt\").alias(\"fraud_sales\")\n",
    ")\n",
    "f2s_ratio_df = fraud_df.join(total_sales, on=\"id_merchant\").withColumn(\n",
    "    \"f2s_ratio\", (col(\"fraud_sales\") / col(\"total_sales\")) * 100\n",
    ")\n",
    "\n",
    "risk_merchants = f2s_ratio_df.filter(col(\"f2s_ratio\") >= 3)\n",
    "high_risk_merchants_count = risk_merchants.count()\n",
    "print(f\"Number of merchants operating at very high risk (F2S >= 3%): {high_risk_merchants_count}\")"
   ]
  },
  {
   "cell_type": "markdown",
   "metadata": {},
   "source": [
    "2.2.5 “Abbott and Adam Group” wants to know their total revenue(sum of non-fraud amt) in each state they operate, show the top 20 results by revenue in descending order. You output should include merchant name, state and total revenue. (note: Abbott and Adam group include all merchants who name start with “Abbott” or “Adam”.)"
   ]
  },
  {
   "cell_type": "code",
   "execution_count": 20,
   "metadata": {},
   "outputs": [
    {
     "name": "stdout",
     "output_type": "stream",
     "text": [
      "+--------------------------+-----+------------------+\n",
      "|merchant                  |state|total_revenue     |\n",
      "+--------------------------+-----+------------------+\n",
      "|Abbott-Rogahn             |CA   |352865.9697378874 |\n",
      "|Adams, Kovacek and Kuhlman|CA   |279898.7897530794 |\n",
      "|Adams-Barrows             |CA   |278485.79005908966|\n",
      "|Abbott-Rogahn             |TX   |247959.90971922874|\n",
      "|Adams-Barrows             |TX   |199538.57018435   |\n",
      "|Adams, Kovacek and Kuhlman|TX   |187685.3698939085 |\n",
      "|Abbott-Rogahn             |NY   |182627.70976650715|\n",
      "|Abbott-Rogahn             |FL   |178579.29026520252|\n",
      "|Adams, Kovacek and Kuhlman|NY   |155427.12010335922|\n",
      "|Adams-Barrows             |FL   |154059.63974308968|\n",
      "|Adams, Kovacek and Kuhlman|FL   |150222.3498879671 |\n",
      "|Adams-Barrows             |NY   |145255.89991986752|\n",
      "|Abbott-Rogahn             |IL   |119764.71997475624|\n",
      "|Abbott-Rogahn             |PA   |118146.56015014648|\n",
      "|Abbott-Rogahn             |OH   |105306.52020084858|\n",
      "|Adams, Kovacek and Kuhlman|PA   |99076.1699630022  |\n",
      "|Adams, Kovacek and Kuhlman|OH   |98207.82018768787 |\n",
      "|Abbott-Rogahn             |GA   |97967.02010643482 |\n",
      "|Adams, Kovacek and Kuhlman|NC   |97072.04996073246 |\n",
      "|Abbott-Rogahn             |MI   |93076.11016261578 |\n",
      "+--------------------------+-----+------------------+\n",
      "\n"
     ]
    }
   ],
   "source": [
    "from pyspark.sql.functions import col, sum as _sum\n",
    "abbott_adam_df = merchant_df.filter(\n",
    "    col(\"merchant\").startswith(\"Abbott\") | col(\"merchant\").startswith(\"Adam\")\n",
    ")\n",
    "\n",
    "trans_merged_df = transactions_df.join(\n",
    "    abbott_adam_df, on=\"id_merchant\"\n",
    ").join(\n",
    "    geolocation_df, on=\"id_geolocation\"\n",
    ")\n",
    "\n",
    "non_fraud_trans = trans_merged_df.filter(col(\"is_fraud\") == 0)\n",
    "revenue_df = non_fraud_trans.groupBy(\n",
    "    \"merchant\", \"state\"\n",
    ").agg(\n",
    "    _sum(\"amt\").alias(\"total_revenue\")\n",
    ")\n",
    "revenue_df_20 = revenue_df.orderBy(col(\"total_revenue\").desc()).limit(20)\n",
    "revenue_df_20.show(truncate=False)"
   ]
  },
  {
   "cell_type": "markdown",
   "metadata": {},
   "source": [
    "2.2.6 For each year (2020-2022), aggregate the number(count) of fraudulent transactions every hour. Plot an appropriate figure and observe the trend. Write your observations from your plot (e.g. Is fraudulent activities increasing or decreasing? Are those frauds more active after midnight or during business hours?)."
   ]
  },
  {
   "cell_type": "code",
   "execution_count": 21,
   "metadata": {},
   "outputs": [
    {
     "data": {
      "image/png": "[encoded data removed]",
      "text/plain": [
       "<Figure size 1200x600 with 1 Axes>"
      ]
     },
     "metadata": {},
     "output_type": "display_data"
    }
   ],
   "source": [
    "from pyspark.sql.functions import from_unixtime, year, hour, col\n",
    "import matplotlib.pyplot as plt\n",
    "import pandas as pd\n",
    "\n",
    "traqnsaction = transactions_df.withColumn(\"trans_datetime\", from_unixtime(col(\"trans_timestamp\")))\n",
    "fraud_data = traqnsaction.filter(col(\"is_fraud\") == 1)\n",
    "fraud_data = fraud_data.withColumn(\"trans_year\", year(\"trans_datetime\")) \\\n",
    "                   .withColumn(\"trans_hour\", hour(\"trans_datetime\"))\n",
    "fraud_count_data = fraud_data.groupBy(\"trans_year\", \"trans_hour\").count()\n",
    "fraud_count_pd_df = fraud_count_data.toPandas()\n",
    "dataframe_pivot = fraud_count_pd_df.pivot(index='trans_hour', columns='trans_year', values='count').fillna(0)\n",
    "\n",
    "dataframe_pivot.plot(kind='line', figsize=(12, 6), marker='o')\n",
    "plt.title(\"Number of Fraudulent Transactions by Hour (2020-2022)\")\n",
    "plt.xlabel(\"Hour of the Day\")\n",
    "plt.ylabel(\"Number of Fraudulent Transactions\")\n",
    "plt.xticks(range(0, 24))  # Make sure all hours are shown on the x-axis\n",
    "plt.grid(True)\n",
    "plt.legend(title=\"Year\")\n",
    "plt.show()\n"
   ]
  },
  {
   "cell_type": "markdown",
   "metadata": {},
   "source": [
    "### Part 3 RDDs vs DataFrame vs Spark SQL (25%) <a class=\"anchor\" name=\"part-3\"></a>\n",
    "Implement the following queries using RDDs, DataFrame in SparkSQL separately. Log the  time taken for each query in each approach using the “%%time” built-in magic command in Jupyter Notebook and discuss the performance difference between these 3 approaches."
   ]
  },
  {
   "cell_type": "markdown",
   "metadata": {},
   "source": [
    "#### Query: <strong>We consider city with population < 50K as small(denoted as S); 50K-200K as medium(M), >200K as large(L). For each city type, using customer age bucket of 10(e.g. 0-9, 10-19, 20-29…), show the percentage ratio of fraudulent transactions in each age bucket.</strong>"
   ]
  },
  {
   "cell_type": "markdown",
   "metadata": {},
   "source": [
    "#### 3.1. RDD Implementation"
   ]
  },
  {
   "cell_type": "code",
   "execution_count": 22,
   "metadata": {},
   "outputs": [],
   "source": [
    "from pyspark.sql import SparkSession\n",
    "from datetime import datetime\n",
    "import time\n",
    "\n",
    "\n",
    "start_time = time.time()\n",
    "\n",
    "customers_rdd = sc.sparkContext.textFile(\"customers.csv\")\n",
    "geolocation_rdd = sc.sparkContext.textFile(\"geolocation.csv\")\n",
    "\n",
    "header_customers = customers_rdd.first()\n",
    "header_geolocation = geolocation_rdd.first()\n",
    "\n",
    "customers_rdd = customers_rdd.filter(lambda row: row != header_customers).map(lambda row: row.split(','))\n",
    "geolocation_rdd = geolocation_rdd.filter(lambda row: row != header_geolocation).map(lambda row: row.split(','))\n"
   ]
  },
  {
   "cell_type": "code",
   "execution_count": 29,
   "metadata": {},
   "outputs": [],
   "source": [
    "def safe_parse_int(value):\n",
    "    try:\n",
    "        return int(value)\n",
    "    except ValueError:\n",
    "        print(f\"ERROR - {value}\")\n",
    "        return None  \n",
    "\n",
    "geolocation_rdd = geolocation_rdd.map(lambda row: row + [(\n",
    "    'S' if safe_parse_int(row[6]) and safe_parse_int(row[6]) < 50000 \n",
    "    else 'M' if safe_parse_int(row[6]) and 50000 <= safe_parse_int(row[6]) <= 200000 \n",
    "    else 'L' if safe_parse_int(row[6]) and safe_parse_int(row[6]) > 200000 \n",
    "    else None)])\n",
    "\n",
    "geolocation_rdd = geolocation_rdd.filter(lambda row: row[-1] is not None)\n",
    "\n",
    "customers_rdd = customers_rdd.filter(lambda row: safe_parse_int(row[7].split('-')[0]) is not None)\n",
    "customers_rdd = customers_rdd.map(lambda row: row + [((current_year - int(row[7].split('-')[0])) // 10) * 10])\n",
    "\n",
    "customer_geo_rdd = customers_rdd.map(lambda row: (row[9], row)).join(geolocation_rdd.map(lambda row: (row[5], row)))\n",
    "customer_geo_rdd = customer_geo_rdd.map(lambda row: row[1][0] + row[1][1][1:])  \n"
   ]
  },
  {
   "cell_type": "code",
   "execution_count": 30,
   "metadata": {},
   "outputs": [
    {
     "name": "stdout",
     "output_type": "stream",
     "text": [
      "City Type\tAge Bucket\tFraud Percentage\n"
     ]
    }
   ],
   "source": [
    "final_rdd = transactions_data_rdd.map(lambda row: (row[4], row)).join(customer_geo_rdd.map(lambda row: (row[0], row)))\n",
    "final_rdd = final_rdd.map(lambda row: row[1][0] + row[1][1][1:])  \n",
    "fraud_rdd = final_rdd.filter(lambda row: row[3] == '1')\n",
    "\n",
    "grouped_rdd = fraud_rdd.map(lambda row: ((row[13], row[12]), 1)).reduceByKey(lambda a, b: a + b)\n",
    "\n",
    "total_fraud_rdd = grouped_rdd.map(lambda row: (row[0][0], row[1])).reduceByKey(lambda a, b: a + b)\n",
    "\n",
    "percentage_fraud_rdd = grouped_rdd.map(lambda row: (row[0][0], (row[0][1], row[1]))).join(total_fraud_rdd)\n",
    "percentage_fraud_rdd = percentage_fraud_rdd.map(lambda row: (row[0], row[1][0][0], (row[1][0][1] / row[1][1]) * 100))\n",
    "\n",
    "sorted_results = percentage_fraud_rdd.sortBy(lambda row: (row[0], row[1])).collect()\n",
    "\n",
    "print(\"City Type\\tAge Bucket\\tFraud Percentage\")\n",
    "for result in sorted_results:\n",
    "    print(f\"{result[0]}\\t\\t{result[1]}\\t\\t{result[2]:.2f}\")\n"
   ]
  },
  {
   "cell_type": "code",
   "execution_count": 31,
   "metadata": {},
   "outputs": [
    {
     "name": "stdout",
     "output_type": "stream",
     "text": [
      "RDD Query Execution Time: 1150.904633283615 seconds\n"
     ]
    }
   ],
   "source": [
    "end_time = time.time()\n",
    "print(f\"RDD Query Execution Time: {end_time - start_time} seconds\")"
   ]
  },
  {
   "cell_type": "markdown",
   "metadata": {},
   "source": [
    "#### 3.2. DataFrame Implementation"
   ]
  },
  {
   "cell_type": "code",
   "execution_count": 26,
   "metadata": {},
   "outputs": [
    {
     "name": "stdout",
     "output_type": "stream",
     "text": [
      "+---------+----------+------------------+\n",
      "|city_type|age_bucket|  fraud_percentage|\n",
      "+---------+----------+------------------+\n",
      "|        L|        20| 7.911556400069096|\n",
      "|        L|        30|17.147463580353545|\n",
      "|        L|        40|19.047619047619047|\n",
      "|        L|        50| 21.78269131110727|\n",
      "|        L|        60|16.427707721540855|\n",
      "|        L|        70| 8.372200149709219|\n",
      "|        L|        80|  5.54499913629297|\n",
      "|        L|        90|3.7657626533079984|\n",
      "|        M|        20| 7.720159558146671|\n",
      "|        M|        30|18.312365756366983|\n",
      "|        M|        40|18.521018717397975|\n",
      "|        M|        50| 20.23933722000614|\n",
      "|        M|        60|16.133783369131635|\n",
      "|        M|        70|10.303774163853943|\n",
      "|        M|        80| 5.627493096041731|\n",
      "|        M|        90| 3.142068119054925|\n",
      "|        S|        20| 8.407914976926303|\n",
      "|        S|        30|17.686337575164313|\n",
      "|        S|        40|18.909942665361488|\n",
      "|        S|        50|  21.5039854565795|\n",
      "+---------+----------+------------------+\n",
      "only showing top 20 rows\n",
      "\n",
      "DataFrame Query Execution Time: 25.825424671173096 seconds\n"
     ]
    }
   ],
   "source": [
    "from pyspark.sql import functions as F\n",
    "from datetime import datetime\n",
    "\n",
    "start_time = time.time()\n",
    "geo_loc_data = geolocation_df.withColumn(\n",
    "    \"city_type\",\n",
    "    F.when(F.col(\"population\") < 50000, \"S\")  \n",
    "    .when((F.col(\"population\") >= 50000) & (F.col(\"population\") <= 200000), \"M\")  \n",
    "    .otherwise(\"L\")  \n",
    ")\n",
    "\n",
    "year_curr = datetime.now().year\n",
    "cust_data = customers_df.withColumn(\n",
    "    \"age_bucket\",\n",
    "    (F.floor((year_curr - F.year(F.col(\"dob\"))) / 10) * 10).cast(\"int\")\n",
    ")\n",
    "\n",
    "\n",
    "customer_geo_df = cust_data.join(\n",
    "    geo_loc_data, cust_data.id_geolocation == geo_loc_data.id_geolocation\n",
    ")\n",
    "\n",
    "final_dataset = transactions_df.join(\n",
    "    customer_geo_df, transactions_df.id_customer == customer_geo_df.id_customer\n",
    ")\n",
    "\n",
    "final_dataset = final_dataset.filter(F.col(\"is_fraud\") == 1)\n",
    "f_grouped_df = final_dataset.groupBy(\"city_type\", \"age_bucket\").count()\n",
    "\n",
    "grp_per_fraud = f_grouped_df.groupBy(\"city_type\").agg(F.sum(\"count\").alias(\"total_fraud\"))\n",
    "fraud_per_fraud = f_grouped_df.join(\n",
    "    grp_per_fraud, on=\"city_type\"\n",
    ").withColumn(\n",
    "    \"fraud_percentage\", (F.col(\"count\") / F.col(\"total_fraud\")) * 100\n",
    ").orderBy(\"city_type\", \"age_bucket\")  \n",
    "\n",
    "fraud_per_fraud.select(\"city_type\", \"age_bucket\", \"fraud_percentage\").show()\n",
    "end_time = time.time()\n",
    "print(f\"DataFrame Query Execution Time: {end_time - start_time} seconds\")"
   ]
  },
  {
   "cell_type": "markdown",
   "metadata": {},
   "source": [
    "#### 3.3. Spark SQL Implementation"
   ]
  },
  {
   "cell_type": "code",
   "execution_count": 27,
   "metadata": {},
   "outputs": [],
   "source": [
    "customers_df.createOrReplaceTempView(\"customers\")\n",
    "geolocation_df.createOrReplaceTempView(\"geolocation\")\n",
    "transactions_df.createOrReplaceTempView(\"transactions\")"
   ]
  },
  {
   "cell_type": "code",
   "execution_count": 28,
   "metadata": {},
   "outputs": [
    {
     "name": "stdout",
     "output_type": "stream",
     "text": [
      "+---------+----------+------------------+\n",
      "|city_type|age_bucket|  fraud_percentage|\n",
      "+---------+----------+------------------+\n",
      "|        L|        20| 7.911556400069096|\n",
      "|        L|        30|17.147463580353545|\n",
      "|        L|        40|19.047619047619047|\n",
      "|        L|        50| 21.78269131110727|\n",
      "|        L|        60|16.427707721540855|\n",
      "|        L|        70| 8.372200149709219|\n",
      "|        L|        80|  5.54499913629297|\n",
      "|        L|        90|3.7657626533079984|\n",
      "|        M|        20| 7.720159558146671|\n",
      "|        M|        30|18.312365756366983|\n",
      "|        M|        40|18.521018717397975|\n",
      "|        M|        50| 20.23933722000614|\n",
      "|        M|        60|16.133783369131635|\n",
      "|        M|        70|10.303774163853943|\n",
      "|        M|        80| 5.627493096041731|\n",
      "|        M|        90| 3.142068119054925|\n",
      "|        S|        20| 8.407914976926303|\n",
      "|        S|        30|17.686337575164313|\n",
      "|        S|        40|18.909942665361488|\n",
      "|        S|        50|  21.5039854565795|\n",
      "+---------+----------+------------------+\n",
      "only showing top 20 rows\n",
      "\n",
      "SparkSQL Query Execution Time: 25.49929451942444 seconds\n"
     ]
    }
   ],
   "source": [
    "from datetime import datetime\n",
    "start_time = time.time()\n",
    "spark.sql(\"\"\"\n",
    "    CREATE OR REPLACE TEMP VIEW customer_geo AS\n",
    "    SELECT\n",
    "        cust.id_customer,\n",
    "        cust.dob,\n",
    "        go_loc.city,\n",
    "        go_loc.state,\n",
    "        go_loc.population,\n",
    "        CASE\n",
    "            WHEN go_loc.population < 50000 THEN 'S' \n",
    "            WHEN go_loc.population BETWEEN 50000 AND 200000 THEN 'M'  \n",
    "            ELSE 'L'  \n",
    "        END AS city_type\n",
    "    FROM customers cust\n",
    "    JOIN geolocation go_loc\n",
    "    ON cust.id_geolocation = go_loc.id_geolocation\n",
    "\"\"\")\n",
    "\n",
    "current_year = datetime.now().year\n",
    "spark.sql(f\"\"\"\n",
    "    CREATE OR REPLACE TEMP VIEW customer_geo_age AS\n",
    "    SELECT\n",
    "        cust_geo.id_customer,\n",
    "        cust_geo.city,\n",
    "        cust_geo.state,\n",
    "        cust_geo.city_type,\n",
    "        FLOOR(({current_year} - YEAR(cust_geo.dob)) / 10) * 10 AS age_bucket\n",
    "    FROM customer_geo cust_geo\n",
    "\"\"\")\n",
    "\n",
    "spark.sql(\"\"\"\n",
    "    CREATE OR REPLACE TEMP VIEW fraud_transactions AS\n",
    "    SELECT\n",
    "        trans.id_transaction,\n",
    "        trans.amt,\n",
    "        cust_geo.city_type,\n",
    "        cust_geo.age_bucket\n",
    "    FROM transactions trans\n",
    "    JOIN customer_geo_age cust_geo\n",
    "    ON trans.id_customer = cust_geo.id_customer\n",
    "    WHERE trans.is_fraud = 1\n",
    "\"\"\")\n",
    "\n",
    "spark.sql(\"\"\"\n",
    "    CREATE OR REPLACE TEMP VIEW fraud_count_per_group AS\n",
    "    SELECT\n",
    "        city_type,\n",
    "        age_bucket,\n",
    "        COUNT(*) AS fraud_count\n",
    "    FROM fraud_transactions\n",
    "    GROUP BY city_type, age_bucket\n",
    "\"\"\")\n",
    "\n",
    "spark.sql(\"\"\"\n",
    "    CREATE OR REPLACE TEMP VIEW total_fraud_per_city_type AS\n",
    "    SELECT\n",
    "        city_type,\n",
    "        SUM(fraud_count) AS total_fraud\n",
    "    FROM fraud_count_per_group\n",
    "    GROUP BY city_type\n",
    "\"\"\")\n",
    "\n",
    "final_result_df = spark.sql(\"\"\"\n",
    "    SELECT\n",
    "        fraud_count.city_type,\n",
    "        fraud_count.age_bucket,\n",
    "        (fraud_count.fraud_count / total_fraud.total_fraud) * 100 AS fraud_percentage\n",
    "    FROM fraud_count_per_group fraud_count\n",
    "    JOIN total_fraud_per_city_type total_fraud\n",
    "    ON fraud_count.city_type = total_fraud.city_type\n",
    "    ORDER BY fraud_count.city_type, fraud_count.age_bucket  \n",
    "\"\"\")\n",
    "final_result_df.show()\n",
    "end_time = time.time()\n",
    "print(f\"SparkSQL Query Execution Time: {end_time - start_time} seconds\")"
   ]
  },
  {
   "cell_type": "markdown",
   "metadata": {},
   "source": [
    "### 3.4 Which one is the easiest to implement in your opinion? Log the time taken for each query, and observe the query execution time, among RDD, DataFrame, SparkSQL, which is the fastest and why? Please include proper reference. (Maximum 500 words.)"
   ]
  },
  {
   "cell_type": "markdown",
   "metadata": {},
   "source": [
    "In my view, SparkSQL is the easiest to work with compared to RDDs and DataFrames. The reason is that SparkSQL lets you write queries in a straightforward, SQL-like format, which feels more natural and less complicated. You don’t have to worry about the intricate details of transformations and actions that you deal with in RDDs or even DataFrames. If you’re already familiar with SQL, picking up SparkSQL is a breeze, making it a quicker and more efficient option to implement.\n",
    "\n",
    "<b>RDD:</b>\n",
    "\n",
    "RDD took the most time as it operates at a lower level in spark, and which lacks the optimization provided by the spark.\n",
    "\n",
    "<b>Dataframe:</b>\n",
    "\n",
    "It performed much better than RDD. They are actually build over the RDDs dataframes, so they come up with inbuild optimizations  \n",
    "<b>SparkSQL:</b>\n",
    "\n",
    "It was kindoff the fastest among them, it is because it benifits from the same optimizers as the dataframes. Basically, the execution plan generated by the SPARKSQL is more efficient  which enhances the performance of the code. "
   ]
  },
  {
   "cell_type": "markdown",
   "metadata": {},
   "source": [
    "### Some ideas on the comparison\n",
    "\n",
    "Armbrust, M., Huai, Y., Liang, C., Xin, R., & Zaharia, M. (2015). Deep Dive into Spark SQL’s Catalyst Optimizer. Retrieved September 30, 2017, from https://databricks.com/blog/2015/04/13/deep-dive-into-spark-sqls-catalyst-optimizer.html\n",
    "\n",
    "Damji, J. (2016). A Tale of Three Apache Spark APIs: RDDs, DataFrames, and Datasets. Retrieved September 28, 2017, from https://databricks.com/blog/2016/07/14/a-tale-of-three-apache-spark-apis-rdds-dataframes-and-datasets.html\n",
    "\n",
    "Data Flair (2017a). Apache Spark RDD vs DataFrame vs DataSet. Retrieved September 28, 2017, from http://data-flair.training/blogs/apache-spark-rdd-vs-dataframe-vs-dataset\n",
    "\n",
    "Prakash, C. (2016). Apache Spark: RDD vs Dataframe vs Dataset. Retrieved September 28, 2017, from http://why-not-learn-something.blogspot.com.au/2016/07/apache-spark-rdd-vs-dataframe-vs-dataset.html\n",
    "\n",
    "Xin, R., & Rosen, J. (2015). Project Tungsten: Bringing Apache Spark Closer to Bare Metal. Retrieved September 30, 2017, from https://databricks.com/blog/2015/04/28/project-tungsten-bringing-spark-closer-to-bare-metal.html"
   ]
  }
 ],
 "metadata": {
  "kernelspec": {
   "display_name": "Python 3 (ipykernel)",
   "language": "python",
   "name": "python3"
  },
  "language_info": {
   "codemirror_mode": {
    "name": "ipython",
    "version": 3
   },
   "file_extension": ".py",
   "mimetype": "text/x-python",
   "name": "python",
   "nbconvert_exporter": "python",
   "pygments_lexer": "ipython3",
   "version": "3.10.13"
  }
 },
 "nbformat": 4,
 "nbformat_minor": 4
}
